{
 "cells": [
  {
   "cell_type": "markdown",
   "metadata": {},
   "source": [
    "# Validation of OpenBioLink Network\n",
    "This notebook maps the drug-disease pairs (DrugBank-MeSH) from ClinicalTrials.gov (16-04-2020)\n",
    "to DO for validating the OpenBioLink network."
   ]
  },
  {
   "cell_type": "code",
   "execution_count": 1,
   "metadata": {},
   "outputs": [],
   "source": [
    "import getpass\n",
    "import sys\n",
    "import time\n",
    "\n",
    "import urllib.request\n",
    "import json \n",
    "\n",
    "import pandas as pd"
   ]
  },
  {
   "cell_type": "code",
   "execution_count": 2,
   "metadata": {},
   "outputs": [
    {
     "data": {
      "text/plain": [
       "'danieldomingo'"
      ]
     },
     "execution_count": 2,
     "metadata": {},
     "output_type": "execute_result"
    }
   ],
   "source": [
    "getpass.getuser()"
   ]
  },
  {
   "cell_type": "code",
   "execution_count": 3,
   "metadata": {},
   "outputs": [
    {
     "data": {
      "text/plain": [
       "'3.7.4 (v3.7.4:e09359112e, Jul  8 2019, 14:54:52) \\n[Clang 6.0 (clang-600.0.57)]'"
      ]
     },
     "execution_count": 3,
     "metadata": {},
     "output_type": "execute_result"
    }
   ],
   "source": [
    "sys.version"
   ]
  },
  {
   "cell_type": "code",
   "execution_count": 4,
   "metadata": {},
   "outputs": [
    {
     "data": {
      "text/plain": [
       "'Mon Apr 20 16:46:47 2020'"
      ]
     },
     "execution_count": 4,
     "metadata": {},
     "output_type": "execute_result"
    }
   ],
   "source": [
    "time.asctime()"
   ]
  },
  {
   "cell_type": "markdown",
   "metadata": {},
   "source": [
    "Load clinical trials information from ClinicalTrials.gov"
   ]
  },
  {
   "cell_type": "code",
   "execution_count": 5,
   "metadata": {},
   "outputs": [],
   "source": [
    "clinical_trials = pd.read_csv(\n",
    "    \"../data/PubChem-MeSH-slim-counts.tsv\",\n",
    "    sep=\"\\t\",\n",
    ")"
   ]
  },
  {
   "cell_type": "markdown",
   "metadata": {},
   "source": [
    "Load Disease Ontology Cross-references"
   ]
  },
  {
   "cell_type": "code",
   "execution_count": 6,
   "metadata": {},
   "outputs": [],
   "source": [
    "with urllib.request.urlopen(\n",
    "    \"https://github.com/DiseaseOntology/HumanDiseaseOntology/raw/master/src/ontology/doid.json\"\n",
    ") as url:\n",
    "    do_data = json.loads(url.read().decode())"
   ]
  },
  {
   "cell_type": "code",
   "execution_count": 7,
   "metadata": {
    "scrolled": true
   },
   "outputs": [],
   "source": [
    "def get_mesh_to_do_mappings(do_data):\n",
    "    \"\"\"Parse Disease Ontology file to get mappings between MeSH terms and Disease Ontology.\"\"\"\n",
    "    meshid_to_doid = {}\n",
    "    \n",
    "    # Multiple graphs within the file\n",
    "    for graph in do_data['graphs']:\n",
    "\n",
    "        # Iterate for each node in the graph\n",
    "        for node in graph['nodes']:\n",
    "            # Check if there is metadata in the node\n",
    "            if \"meta\" in node and \"xrefs\" in node[\"meta\"]:\n",
    "                # Remove prefix from URL to get the ID\n",
    "                doid = node[\"id\"].replace(\"http://purl.obolibrary.org/obo/\", \"\").split(\"_\")[1]\n",
    "\n",
    "                for xref in node[\"meta\"][\"xrefs\"]:\n",
    "                    # Check the resource (MeSH, UMLS, etc...)\n",
    "                    source = xref['val'].split(\":\")[0]\n",
    "                    \n",
    "                    # Skip non MESH crossrefs\n",
    "                    if source != \"MESH\":\n",
    "                        continue\n",
    "\n",
    "                    meshid_to_doid[xref['val'].split(\":\")[1]] = f\"DOID:{doid}\"\n",
    "\n",
    "    return meshid_to_doid"
   ]
  },
  {
   "cell_type": "code",
   "execution_count": 8,
   "metadata": {},
   "outputs": [
    {
     "name": "stdout",
     "output_type": "stream",
     "text": [
      "Total of mappings between MeSH and DO: 3154\n"
     ]
    }
   ],
   "source": [
    "meshid_to_doid = get_mesh_to_do_mappings(do_data)\n",
    "\n",
    "print(f\"Total of mappings between MeSH and DO: {len(meshid_to_doid)}\")"
   ]
  },
  {
   "cell_type": "markdown",
   "metadata": {},
   "source": [
    "Diseases mapped between OpenBioLink (DO) and ClinicalTrials.gov (MeSH)"
   ]
  },
  {
   "cell_type": "code",
   "execution_count": 9,
   "metadata": {},
   "outputs": [],
   "source": [
    "mapped_meshs = set(meshid_to_doid.keys()).intersection(set(clinical_trials.condition.unique()))"
   ]
  },
  {
   "cell_type": "code",
   "execution_count": 10,
   "metadata": {},
   "outputs": [
    {
     "data": {
      "text/plain": [
       "1603"
      ]
     },
     "execution_count": 10,
     "metadata": {},
     "output_type": "execute_result"
    }
   ],
   "source": [
    "len(mapped_meshs)"
   ]
  },
  {
   "cell_type": "markdown",
   "metadata": {},
   "source": [
    "OpenBioLink"
   ]
  },
  {
   "cell_type": "code",
   "execution_count": 11,
   "metadata": {},
   "outputs": [],
   "source": [
    "openbiolink_df = pd.read_csv(\n",
    "    \"../../networks/data/openbiolink_network.csv\",\n",
    ")"
   ]
  },
  {
   "cell_type": "code",
   "execution_count": 12,
   "metadata": {},
   "outputs": [
    {
     "data": {
      "text/html": [
       "<div>\n",
       "<style scoped>\n",
       "    .dataframe tbody tr th:only-of-type {\n",
       "        vertical-align: middle;\n",
       "    }\n",
       "\n",
       "    .dataframe tbody tr th {\n",
       "        vertical-align: top;\n",
       "    }\n",
       "\n",
       "    .dataframe thead th {\n",
       "        text-align: right;\n",
       "    }\n",
       "</style>\n",
       "<table border=\"1\" class=\"dataframe\">\n",
       "  <thead>\n",
       "    <tr style=\"text-align: right;\">\n",
       "      <th></th>\n",
       "      <th>SOURCE</th>\n",
       "      <th>TARGET</th>\n",
       "      <th>BEL_RELATION</th>\n",
       "    </tr>\n",
       "  </thead>\n",
       "  <tbody>\n",
       "    <tr>\n",
       "      <th>0</th>\n",
       "      <td>DOID:0050156</td>\n",
       "      <td>HP:0002206</td>\n",
       "      <td>increases</td>\n",
       "    </tr>\n",
       "    <tr>\n",
       "      <th>1</th>\n",
       "      <td>DOID:0050156</td>\n",
       "      <td>HP:0100759</td>\n",
       "      <td>increases</td>\n",
       "    </tr>\n",
       "    <tr>\n",
       "      <th>2</th>\n",
       "      <td>DOID:0050158</td>\n",
       "      <td>HP:0002878</td>\n",
       "      <td>increases</td>\n",
       "    </tr>\n",
       "    <tr>\n",
       "      <th>3</th>\n",
       "      <td>DOID:0050158</td>\n",
       "      <td>HP:0003593</td>\n",
       "      <td>increases</td>\n",
       "    </tr>\n",
       "    <tr>\n",
       "      <th>4</th>\n",
       "      <td>DOID:0050158</td>\n",
       "      <td>HP:0006515</td>\n",
       "      <td>increases</td>\n",
       "    </tr>\n",
       "  </tbody>\n",
       "</table>\n",
       "</div>"
      ],
      "text/plain": [
       "         SOURCE      TARGET BEL_RELATION\n",
       "0  DOID:0050156  HP:0002206    increases\n",
       "1  DOID:0050156  HP:0100759    increases\n",
       "2  DOID:0050158  HP:0002878    increases\n",
       "3  DOID:0050158  HP:0003593    increases\n",
       "4  DOID:0050158  HP:0006515    increases"
      ]
     },
     "execution_count": 12,
     "metadata": {},
     "output_type": "execute_result"
    }
   ],
   "source": [
    "openbiolink_df.head()"
   ]
  },
  {
   "cell_type": "markdown",
   "metadata": {},
   "source": [
    "Get DOID target nodes"
   ]
  },
  {
   "cell_type": "code",
   "execution_count": 13,
   "metadata": {},
   "outputs": [
    {
     "name": "stdout",
     "output_type": "stream",
     "text": [
      "Diseases in OpenBioLink from Disease Ontology that are target by a gene: 1512\n"
     ]
    }
   ],
   "source": [
    "openbiolink_disease_nodes = {\n",
    "    row[1]\n",
    "    for row in openbiolink_df.itertuples(index=False)\n",
    "    if \"DOID\" in row[1] and \"NCBIGENE\" in row[0]\n",
    "}\n",
    "print(f\"Diseases in OpenBioLink from Disease Ontology that are target by a gene: {len(openbiolink_disease_nodes)}\")"
   ]
  },
  {
   "cell_type": "markdown",
   "metadata": {},
   "source": [
    "Get PubChem source nodes"
   ]
  },
  {
   "cell_type": "code",
   "execution_count": 14,
   "metadata": {},
   "outputs": [
    {
     "name": "stdout",
     "output_type": "stream",
     "text": [
      "Drugs in OpenBioLink from PubChem that can be used as source nodes: 7407\n"
     ]
    }
   ],
   "source": [
    "openbiolink_drug_source_nodes = {\n",
    "    int(row[0].replace(\"PUBCHEM.COMPOUND:\", \"\")) # Cast to int\n",
    "    for row in openbiolink_df.itertuples(index=False)\n",
    "    if \"PUBCHEM.COMPOUND:\" in row[0]\n",
    "}\n",
    "print(f\"Drugs in OpenBioLink from PubChem that can be used as source nodes: {len(openbiolink_drug_source_nodes)}\")"
   ]
  },
  {
   "cell_type": "code",
   "execution_count": 15,
   "metadata": {},
   "outputs": [],
   "source": [
    "pairs_for_validation = pd.DataFrame([\n",
    "    # pubchem and mapped DO terms\n",
    "    {'cid_id': row['cid_id'], 'do_id': meshid_to_doid[row['condition']], 'n_trials': row['n_trials']}\n",
    "    for _, row in clinical_trials.iterrows()\n",
    "    if row['condition'] in meshid_to_doid and meshid_to_doid[row['condition']] in openbiolink_disease_nodes and row['cid_id'] in openbiolink_drug_source_nodes\n",
    "])"
   ]
  },
  {
   "cell_type": "code",
   "execution_count": 16,
   "metadata": {},
   "outputs": [
    {
     "data": {
      "text/html": [
       "<div>\n",
       "<style scoped>\n",
       "    .dataframe tbody tr th:only-of-type {\n",
       "        vertical-align: middle;\n",
       "    }\n",
       "\n",
       "    .dataframe tbody tr th {\n",
       "        vertical-align: top;\n",
       "    }\n",
       "\n",
       "    .dataframe thead th {\n",
       "        text-align: right;\n",
       "    }\n",
       "</style>\n",
       "<table border=\"1\" class=\"dataframe\">\n",
       "  <thead>\n",
       "    <tr style=\"text-align: right;\">\n",
       "      <th></th>\n",
       "      <th>cid_id</th>\n",
       "      <th>do_id</th>\n",
       "      <th>n_trials</th>\n",
       "    </tr>\n",
       "  </thead>\n",
       "  <tbody>\n",
       "    <tr>\n",
       "      <th>0</th>\n",
       "      <td>10114</td>\n",
       "      <td>DOID:1588</td>\n",
       "      <td>1</td>\n",
       "    </tr>\n",
       "    <tr>\n",
       "      <th>1</th>\n",
       "      <td>10133</td>\n",
       "      <td>DOID:10588</td>\n",
       "      <td>1</td>\n",
       "    </tr>\n",
       "    <tr>\n",
       "      <th>2</th>\n",
       "      <td>10133</td>\n",
       "      <td>DOID:9352</td>\n",
       "      <td>1</td>\n",
       "    </tr>\n",
       "    <tr>\n",
       "      <th>3</th>\n",
       "      <td>10133</td>\n",
       "      <td>DOID:10582</td>\n",
       "      <td>1</td>\n",
       "    </tr>\n",
       "    <tr>\n",
       "      <th>4</th>\n",
       "      <td>10133</td>\n",
       "      <td>DOID:905</td>\n",
       "      <td>1</td>\n",
       "    </tr>\n",
       "  </tbody>\n",
       "</table>\n",
       "</div>"
      ],
      "text/plain": [
       "   cid_id       do_id  n_trials\n",
       "0   10114   DOID:1588         1\n",
       "1   10133  DOID:10588         1\n",
       "2   10133   DOID:9352         1\n",
       "3   10133  DOID:10582         1\n",
       "4   10133    DOID:905         1"
      ]
     },
     "execution_count": 16,
     "metadata": {},
     "output_type": "execute_result"
    }
   ],
   "source": [
    "pairs_for_validation.head()"
   ]
  },
  {
   "cell_type": "code",
   "execution_count": 17,
   "metadata": {},
   "outputs": [
    {
     "data": {
      "text/plain": [
       "(5151, 3)"
      ]
     },
     "execution_count": 17,
     "metadata": {},
     "output_type": "execute_result"
    }
   ],
   "source": [
    "pairs_for_validation.shape"
   ]
  },
  {
   "cell_type": "markdown",
   "metadata": {},
   "source": [
    "Export drug-disease pairs for validation of the OpenBioLink network"
   ]
  },
  {
   "cell_type": "code",
   "execution_count": 18,
   "metadata": {},
   "outputs": [],
   "source": [
    "pairs_for_validation.to_csv(\"validation_openbiolink.tsv\", sep=\"\\t\", index=False)"
   ]
  },
  {
   "cell_type": "markdown",
   "metadata": {},
   "source": [
    "Export source nodes for validation of the OpenBioLink network (drugs)\n"
   ]
  },
  {
   "cell_type": "code",
   "execution_count": 19,
   "metadata": {},
   "outputs": [
    {
     "name": "stderr",
     "output_type": "stream",
     "text": [
      "/Library/Frameworks/Python.framework/Versions/3.7/lib/python3.7/site-packages/ipykernel_launcher.py:3: FutureWarning: The signature of `Series.to_csv` was aligned to that of `DataFrame.to_csv`, and argument 'header' will change its default value from False to True: please pass an explicit value to suppress this warning.\n",
      "  This is separate from the ipykernel package so we can avoid doing imports until\n"
     ]
    }
   ],
   "source": [
    "pd.Series(\n",
    "    [f\"PUBCHEM.COMPOUND:{cid}\" for cid in  pairs_for_validation.cid_id.unique()] # add the prefix\n",
    ").to_csv(\"../data/source_nodes_openbiolink.tsv\", sep=\"\\t\", index=False)"
   ]
  },
  {
   "cell_type": "markdown",
   "metadata": {},
   "source": [
    "Export target nodes for validation of the OpenBioLink network (diseases)\n"
   ]
  },
  {
   "cell_type": "code",
   "execution_count": 20,
   "metadata": {},
   "outputs": [
    {
     "name": "stderr",
     "output_type": "stream",
     "text": [
      "/Library/Frameworks/Python.framework/Versions/3.7/lib/python3.7/site-packages/ipykernel_launcher.py:3: FutureWarning: The signature of `Series.to_csv` was aligned to that of `DataFrame.to_csv`, and argument 'header' will change its default value from False to True: please pass an explicit value to suppress this warning.\n",
      "  This is separate from the ipykernel package so we can avoid doing imports until\n"
     ]
    }
   ],
   "source": [
    "pd.Series(\n",
    "    pairs_for_validation.do_id.unique()\n",
    ").to_csv(\"../data/target_nodes_openbiolink.tsv\", sep=\"\\t\", index=False)"
   ]
  },
  {
   "cell_type": "markdown",
   "metadata": {},
   "source": [
    "## Analysis of the disease-gene associations\n",
    "In the following cells, we analyzed the number of interactions for each disease (target node) to assess whether there are genes that act as funnel (most of the paths will go through that gene to the disease)"
   ]
  },
  {
   "cell_type": "code",
   "execution_count": 21,
   "metadata": {},
   "outputs": [
    {
     "name": "stdout",
     "output_type": "stream",
     "text": [
      "Number of diseases to validate in OpenBioLink: 264\n"
     ]
    }
   ],
   "source": [
    "diseases_to_validate = pairs_for_validation.do_id.unique()\n",
    "\n",
    "print(f\"Number of diseases to validate in OpenBioLink: {len(diseases_to_validate)}\")\n",
    "\n",
    "last_relations = pd.DataFrame([\n",
    "    {'do_id': row[1], 'ncbigene': row[0]}\n",
    "    for row in openbiolink_df.itertuples(index=False)\n",
    "    # Check that it is a final interaction (gene to disease) and the disease is in clinical trials\n",
    "    if \"DOID\" in row[1] and \"NCBIGENE\" in row[0] and row[1] in diseases_to_validate\n",
    "])"
   ]
  },
  {
   "cell_type": "code",
   "execution_count": 22,
   "metadata": {},
   "outputs": [
    {
     "data": {
      "text/plain": [
       "(528, 2)"
      ]
     },
     "execution_count": 22,
     "metadata": {},
     "output_type": "execute_result"
    }
   ],
   "source": [
    "last_relations.shape"
   ]
  },
  {
   "cell_type": "code",
   "execution_count": 23,
   "metadata": {},
   "outputs": [
    {
     "data": {
      "text/html": [
       "<div>\n",
       "<style scoped>\n",
       "    .dataframe tbody tr th:only-of-type {\n",
       "        vertical-align: middle;\n",
       "    }\n",
       "\n",
       "    .dataframe tbody tr th {\n",
       "        vertical-align: top;\n",
       "    }\n",
       "\n",
       "    .dataframe thead th {\n",
       "        text-align: right;\n",
       "    }\n",
       "</style>\n",
       "<table border=\"1\" class=\"dataframe\">\n",
       "  <thead>\n",
       "    <tr style=\"text-align: right;\">\n",
       "      <th></th>\n",
       "      <th>ncbigene</th>\n",
       "    </tr>\n",
       "    <tr>\n",
       "      <th>do_id</th>\n",
       "      <th></th>\n",
       "    </tr>\n",
       "  </thead>\n",
       "  <tbody>\n",
       "    <tr>\n",
       "      <th>DOID:0050144</th>\n",
       "      <td>3</td>\n",
       "    </tr>\n",
       "    <tr>\n",
       "      <th>DOID:0050156</th>\n",
       "      <td>1</td>\n",
       "    </tr>\n",
       "    <tr>\n",
       "      <th>DOID:0050424</th>\n",
       "      <td>2</td>\n",
       "    </tr>\n",
       "    <tr>\n",
       "      <th>DOID:0050434</th>\n",
       "      <td>1</td>\n",
       "    </tr>\n",
       "    <tr>\n",
       "      <th>DOID:0050440</th>\n",
       "      <td>2</td>\n",
       "    </tr>\n",
       "    <tr>\n",
       "      <th>DOID:0050444</th>\n",
       "      <td>1</td>\n",
       "    </tr>\n",
       "    <tr>\n",
       "      <th>DOID:0050445</th>\n",
       "      <td>1</td>\n",
       "    </tr>\n",
       "    <tr>\n",
       "      <th>DOID:0050449</th>\n",
       "      <td>1</td>\n",
       "    </tr>\n",
       "    <tr>\n",
       "      <th>DOID:0050450</th>\n",
       "      <td>1</td>\n",
       "    </tr>\n",
       "    <tr>\n",
       "      <th>DOID:0050451</th>\n",
       "      <td>3</td>\n",
       "    </tr>\n",
       "    <tr>\n",
       "      <th>DOID:0050458</th>\n",
       "      <td>4</td>\n",
       "    </tr>\n",
       "    <tr>\n",
       "      <th>DOID:0050461</th>\n",
       "      <td>2</td>\n",
       "    </tr>\n",
       "    <tr>\n",
       "      <th>DOID:0050632</th>\n",
       "      <td>3</td>\n",
       "    </tr>\n",
       "    <tr>\n",
       "      <th>DOID:0050657</th>\n",
       "      <td>1</td>\n",
       "    </tr>\n",
       "    <tr>\n",
       "      <th>DOID:0050676</th>\n",
       "      <td>1</td>\n",
       "    </tr>\n",
       "    <tr>\n",
       "      <th>DOID:0050699</th>\n",
       "      <td>2</td>\n",
       "    </tr>\n",
       "    <tr>\n",
       "      <th>DOID:0050700</th>\n",
       "      <td>1</td>\n",
       "    </tr>\n",
       "    <tr>\n",
       "      <th>DOID:0050771</th>\n",
       "      <td>5</td>\n",
       "    </tr>\n",
       "    <tr>\n",
       "      <th>DOID:0050773</th>\n",
       "      <td>1</td>\n",
       "    </tr>\n",
       "    <tr>\n",
       "      <th>DOID:0050820</th>\n",
       "      <td>1</td>\n",
       "    </tr>\n",
       "    <tr>\n",
       "      <th>DOID:0050908</th>\n",
       "      <td>2</td>\n",
       "    </tr>\n",
       "    <tr>\n",
       "      <th>DOID:0060013</th>\n",
       "      <td>1</td>\n",
       "    </tr>\n",
       "    <tr>\n",
       "      <th>DOID:0060058</th>\n",
       "      <td>1</td>\n",
       "    </tr>\n",
       "    <tr>\n",
       "      <th>DOID:0060060</th>\n",
       "      <td>1</td>\n",
       "    </tr>\n",
       "    <tr>\n",
       "      <th>DOID:0060160</th>\n",
       "      <td>2</td>\n",
       "    </tr>\n",
       "    <tr>\n",
       "      <th>DOID:0060192</th>\n",
       "      <td>1</td>\n",
       "    </tr>\n",
       "    <tr>\n",
       "      <th>DOID:0060655</th>\n",
       "      <td>3</td>\n",
       "    </tr>\n",
       "    <tr>\n",
       "      <th>DOID:0060768</th>\n",
       "      <td>2</td>\n",
       "    </tr>\n",
       "    <tr>\n",
       "      <th>DOID:0110938</th>\n",
       "      <td>1</td>\n",
       "    </tr>\n",
       "    <tr>\n",
       "      <th>DOID:10003</th>\n",
       "      <td>1</td>\n",
       "    </tr>\n",
       "    <tr>\n",
       "      <th>...</th>\n",
       "      <td>...</td>\n",
       "    </tr>\n",
       "    <tr>\n",
       "      <th>DOID:8552</th>\n",
       "      <td>1</td>\n",
       "    </tr>\n",
       "    <tr>\n",
       "      <th>DOID:8577</th>\n",
       "      <td>1</td>\n",
       "    </tr>\n",
       "    <tr>\n",
       "      <th>DOID:8584</th>\n",
       "      <td>1</td>\n",
       "    </tr>\n",
       "    <tr>\n",
       "      <th>DOID:8712</th>\n",
       "      <td>2</td>\n",
       "    </tr>\n",
       "    <tr>\n",
       "      <th>DOID:893</th>\n",
       "      <td>1</td>\n",
       "    </tr>\n",
       "    <tr>\n",
       "      <th>DOID:8997</th>\n",
       "      <td>1</td>\n",
       "    </tr>\n",
       "    <tr>\n",
       "      <th>DOID:905</th>\n",
       "      <td>1</td>\n",
       "    </tr>\n",
       "    <tr>\n",
       "      <th>DOID:9080</th>\n",
       "      <td>1</td>\n",
       "    </tr>\n",
       "    <tr>\n",
       "      <th>DOID:9119</th>\n",
       "      <td>4</td>\n",
       "    </tr>\n",
       "    <tr>\n",
       "      <th>DOID:9169</th>\n",
       "      <td>1</td>\n",
       "    </tr>\n",
       "    <tr>\n",
       "      <th>DOID:9240</th>\n",
       "      <td>1</td>\n",
       "    </tr>\n",
       "    <tr>\n",
       "      <th>DOID:9245</th>\n",
       "      <td>1</td>\n",
       "    </tr>\n",
       "    <tr>\n",
       "      <th>DOID:9253</th>\n",
       "      <td>2</td>\n",
       "    </tr>\n",
       "    <tr>\n",
       "      <th>DOID:9256</th>\n",
       "      <td>1</td>\n",
       "    </tr>\n",
       "    <tr>\n",
       "      <th>DOID:9266</th>\n",
       "      <td>3</td>\n",
       "    </tr>\n",
       "    <tr>\n",
       "      <th>DOID:9269</th>\n",
       "      <td>1</td>\n",
       "    </tr>\n",
       "    <tr>\n",
       "      <th>DOID:9270</th>\n",
       "      <td>1</td>\n",
       "    </tr>\n",
       "    <tr>\n",
       "      <th>DOID:9271</th>\n",
       "      <td>2</td>\n",
       "    </tr>\n",
       "    <tr>\n",
       "      <th>DOID:9275</th>\n",
       "      <td>3</td>\n",
       "    </tr>\n",
       "    <tr>\n",
       "      <th>DOID:9281</th>\n",
       "      <td>2</td>\n",
       "    </tr>\n",
       "    <tr>\n",
       "      <th>DOID:9351</th>\n",
       "      <td>6</td>\n",
       "    </tr>\n",
       "    <tr>\n",
       "      <th>DOID:9352</th>\n",
       "      <td>6</td>\n",
       "    </tr>\n",
       "    <tr>\n",
       "      <th>DOID:9409</th>\n",
       "      <td>1</td>\n",
       "    </tr>\n",
       "    <tr>\n",
       "      <th>DOID:9455</th>\n",
       "      <td>3</td>\n",
       "    </tr>\n",
       "    <tr>\n",
       "      <th>DOID:9562</th>\n",
       "      <td>1</td>\n",
       "    </tr>\n",
       "    <tr>\n",
       "      <th>DOID:9744</th>\n",
       "      <td>1</td>\n",
       "    </tr>\n",
       "    <tr>\n",
       "      <th>DOID:9821</th>\n",
       "      <td>1</td>\n",
       "    </tr>\n",
       "    <tr>\n",
       "      <th>DOID:9884</th>\n",
       "      <td>5</td>\n",
       "    </tr>\n",
       "    <tr>\n",
       "      <th>DOID:9955</th>\n",
       "      <td>1</td>\n",
       "    </tr>\n",
       "    <tr>\n",
       "      <th>DOID:9970</th>\n",
       "      <td>2</td>\n",
       "    </tr>\n",
       "  </tbody>\n",
       "</table>\n",
       "<p>264 rows × 1 columns</p>\n",
       "</div>"
      ],
      "text/plain": [
       "              ncbigene\n",
       "do_id                 \n",
       "DOID:0050144         3\n",
       "DOID:0050156         1\n",
       "DOID:0050424         2\n",
       "DOID:0050434         1\n",
       "DOID:0050440         2\n",
       "DOID:0050444         1\n",
       "DOID:0050445         1\n",
       "DOID:0050449         1\n",
       "DOID:0050450         1\n",
       "DOID:0050451         3\n",
       "DOID:0050458         4\n",
       "DOID:0050461         2\n",
       "DOID:0050632         3\n",
       "DOID:0050657         1\n",
       "DOID:0050676         1\n",
       "DOID:0050699         2\n",
       "DOID:0050700         1\n",
       "DOID:0050771         5\n",
       "DOID:0050773         1\n",
       "DOID:0050820         1\n",
       "DOID:0050908         2\n",
       "DOID:0060013         1\n",
       "DOID:0060058         1\n",
       "DOID:0060060         1\n",
       "DOID:0060160         2\n",
       "DOID:0060192         1\n",
       "DOID:0060655         3\n",
       "DOID:0060768         2\n",
       "DOID:0110938         1\n",
       "DOID:10003           1\n",
       "...                ...\n",
       "DOID:8552            1\n",
       "DOID:8577            1\n",
       "DOID:8584            1\n",
       "DOID:8712            2\n",
       "DOID:893             1\n",
       "DOID:8997            1\n",
       "DOID:905             1\n",
       "DOID:9080            1\n",
       "DOID:9119            4\n",
       "DOID:9169            1\n",
       "DOID:9240            1\n",
       "DOID:9245            1\n",
       "DOID:9253            2\n",
       "DOID:9256            1\n",
       "DOID:9266            3\n",
       "DOID:9269            1\n",
       "DOID:9270            1\n",
       "DOID:9271            2\n",
       "DOID:9275            3\n",
       "DOID:9281            2\n",
       "DOID:9351            6\n",
       "DOID:9352            6\n",
       "DOID:9409            1\n",
       "DOID:9455            3\n",
       "DOID:9562            1\n",
       "DOID:9744            1\n",
       "DOID:9821            1\n",
       "DOID:9884            5\n",
       "DOID:9955            1\n",
       "DOID:9970            2\n",
       "\n",
       "[264 rows x 1 columns]"
      ]
     },
     "execution_count": 23,
     "metadata": {},
     "output_type": "execute_result"
    }
   ],
   "source": [
    "last_relations.groupby('do_id').count()"
   ]
  },
  {
   "cell_type": "code",
   "execution_count": null,
   "metadata": {},
   "outputs": [],
   "source": []
  }
 ],
 "metadata": {
  "kernelspec": {
   "display_name": "Python 3",
   "language": "python",
   "name": "python3"
  },
  "language_info": {
   "codemirror_mode": {
    "name": "ipython",
    "version": 3
   },
   "file_extension": ".py",
   "mimetype": "text/x-python",
   "name": "python",
   "nbconvert_exporter": "python",
   "pygments_lexer": "ipython3",
   "version": "3.7.4"
  }
 },
 "nbformat": 4,
 "nbformat_minor": 2
}
