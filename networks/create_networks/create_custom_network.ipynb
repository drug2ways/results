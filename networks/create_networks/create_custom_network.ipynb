{
 "cells": [
  {
   "cell_type": "markdown",
   "metadata": {},
   "source": [
    "# Custom network generation"
   ]
  },
  {
   "cell_type": "markdown",
   "metadata": {},
   "source": [
    "This notebook generates a custom pharmacological network with drug-gene, gene-gene and gene-disease causal interactions."
   ]
  },
  {
   "cell_type": "code",
   "execution_count": 1,
   "metadata": {},
   "outputs": [],
   "source": [
    "import getpass\n",
    "import sys\n",
    "import time\n",
    "\n",
    "import pandas as pd"
   ]
  },
  {
   "cell_type": "code",
   "execution_count": 2,
   "metadata": {},
   "outputs": [
    {
     "data": {
      "text/plain": [
       "'sarahbeenie'"
      ]
     },
     "execution_count": 2,
     "metadata": {},
     "output_type": "execute_result"
    }
   ],
   "source": [
    "getpass.getuser()"
   ]
  },
  {
   "cell_type": "code",
   "execution_count": 3,
   "metadata": {},
   "outputs": [
    {
     "data": {
      "text/plain": [
       "'3.7.5 (default, Nov  1 2019, 02:16:32) \\n[Clang 11.0.0 (clang-1100.0.33.8)]'"
      ]
     },
     "execution_count": 3,
     "metadata": {},
     "output_type": "execute_result"
    }
   ],
   "source": [
    "sys.version"
   ]
  },
  {
   "cell_type": "code",
   "execution_count": 4,
   "metadata": {},
   "outputs": [
    {
     "data": {
      "text/plain": [
       "'Fri May  8 12:44:23 2020'"
      ]
     },
     "execution_count": 4,
     "metadata": {},
     "output_type": "execute_result"
    }
   ],
   "source": [
    "time.asctime()"
   ]
  },
  {
   "cell_type": "markdown",
   "metadata": {},
   "source": [
    "Load networks and mapping"
   ]
  },
  {
   "cell_type": "code",
   "execution_count": 5,
   "metadata": {},
   "outputs": [],
   "source": [
    "# load interaction network\n",
    "df = pd.read_csv('processed_graph_30_apr.tsv', sep='\\t', index_col=0)\n",
    "# load OpenBioLink network\n",
    "openbiolink_df = pd.read_csv('openbiolink_network.tsv', sep='\\t')\n",
    "\n",
    "# load entrez-hgnc ID mappings\n",
    "entrez_hgnc_mapping_df = pd.read_csv('entrez_to_hgnc_mappings.tsv', sep='\\t', dtype=object)"
   ]
  },
  {
   "cell_type": "code",
   "execution_count": 6,
   "metadata": {},
   "outputs": [
    {
     "data": {
      "text/html": [
       "<div>\n",
       "<style scoped>\n",
       "    .dataframe tbody tr th:only-of-type {\n",
       "        vertical-align: middle;\n",
       "    }\n",
       "\n",
       "    .dataframe tbody tr th {\n",
       "        vertical-align: top;\n",
       "    }\n",
       "\n",
       "    .dataframe thead th {\n",
       "        text-align: right;\n",
       "    }\n",
       "</style>\n",
       "<table border=\"1\" class=\"dataframe\">\n",
       "  <thead>\n",
       "    <tr style=\"text-align: right;\">\n",
       "      <th></th>\n",
       "      <th>source_identifier</th>\n",
       "      <th>target_identifier</th>\n",
       "      <th>bel_relation</th>\n",
       "      <th>source_database</th>\n",
       "    </tr>\n",
       "  </thead>\n",
       "  <tbody>\n",
       "    <tr>\n",
       "      <th>0</th>\n",
       "      <td>drugbank:DB00087</td>\n",
       "      <td>HGNC:3620</td>\n",
       "      <td>association</td>\n",
       "      <td>drugbank</td>\n",
       "    </tr>\n",
       "    <tr>\n",
       "      <th>1</th>\n",
       "      <td>drugbank:DB00818</td>\n",
       "      <td>HGNC:4083</td>\n",
       "      <td>increases</td>\n",
       "      <td>drugbank</td>\n",
       "    </tr>\n",
       "    <tr>\n",
       "      <th>2</th>\n",
       "      <td>drugbank:DB00139</td>\n",
       "      <td>HGNC:408</td>\n",
       "      <td>decreases</td>\n",
       "      <td>drugbank</td>\n",
       "    </tr>\n",
       "    <tr>\n",
       "      <th>3</th>\n",
       "      <td>drugbank:DB01142</td>\n",
       "      <td>HGNC:278</td>\n",
       "      <td>decreases</td>\n",
       "      <td>drugbank</td>\n",
       "    </tr>\n",
       "    <tr>\n",
       "      <th>4</th>\n",
       "      <td>drugbank:DB00173</td>\n",
       "      <td>HGNC:626</td>\n",
       "      <td>association</td>\n",
       "      <td>drugbank</td>\n",
       "    </tr>\n",
       "  </tbody>\n",
       "</table>\n",
       "</div>"
      ],
      "text/plain": [
       "  source_identifier target_identifier bel_relation source_database\n",
       "0  drugbank:DB00087         HGNC:3620  association        drugbank\n",
       "1  drugbank:DB00818         HGNC:4083    increases        drugbank\n",
       "2  drugbank:DB00139          HGNC:408    decreases        drugbank\n",
       "3  drugbank:DB01142          HGNC:278    decreases        drugbank\n",
       "4  drugbank:DB00173          HGNC:626  association        drugbank"
      ]
     },
     "execution_count": 6,
     "metadata": {},
     "output_type": "execute_result"
    }
   ],
   "source": [
    "df.head()"
   ]
  },
  {
   "cell_type": "code",
   "execution_count": 7,
   "metadata": {},
   "outputs": [
    {
     "data": {
      "text/plain": [
       "(253157, 4)"
      ]
     },
     "execution_count": 7,
     "metadata": {},
     "output_type": "execute_result"
    }
   ],
   "source": [
    "df.shape"
   ]
  },
  {
   "cell_type": "code",
   "execution_count": 8,
   "metadata": {},
   "outputs": [
    {
     "data": {
      "text/plain": [
       "['drugbank',\n",
       " 'INTACT',\n",
       " 'BIOGRID',\n",
       " 'PATHWAYCOMMONS',\n",
       " 'KEGG',\n",
       " 'REACTOME',\n",
       " 'WIKIPATHWAYS',\n",
       " 'DISGENET',\n",
       " 'CLINICALTRIALS']"
      ]
     },
     "execution_count": 8,
     "metadata": {},
     "output_type": "execute_result"
    }
   ],
   "source": [
    "# Contributing resources\n",
    "list(df.source_database.unique())"
   ]
  },
  {
   "cell_type": "markdown",
   "metadata": {},
   "source": [
    "### Relation types "
   ]
  },
  {
   "cell_type": "code",
   "execution_count": 9,
   "metadata": {},
   "outputs": [
    {
     "data": {
      "text/plain": [
       "association     176014\n",
       "increases        37774\n",
       "regulates        21296\n",
       "decreases        11288\n",
       "hasComponent      6785\n",
       "Name: bel_relation, dtype: int64"
      ]
     },
     "execution_count": 9,
     "metadata": {},
     "output_type": "execute_result"
    }
   ],
   "source": [
    "# Unique relation types and their counts in network\n",
    "df['bel_relation'].value_counts()"
   ]
  },
  {
   "cell_type": "markdown",
   "metadata": {},
   "source": [
    "Map regulate relation types as increases relations"
   ]
  },
  {
   "cell_type": "code",
   "execution_count": 10,
   "metadata": {},
   "outputs": [],
   "source": [
    "df.loc[df['bel_relation'] == 'regulates', 'bel_relation'] = 'increases'"
   ]
  },
  {
   "cell_type": "markdown",
   "metadata": {},
   "source": [
    "Map association relationships between genes and disease from DisGeNet to increases relationships"
   ]
  },
  {
   "cell_type": "code",
   "execution_count": 11,
   "metadata": {
    "scrolled": true
   },
   "outputs": [],
   "source": [
    "df.loc[df['source_database'] == 'DISGENET', 'bel_relation'] = 'increases'"
   ]
  },
  {
   "cell_type": "markdown",
   "metadata": {},
   "source": [
    "### Remove duplicate interactions"
   ]
  },
  {
   "cell_type": "markdown",
   "metadata": {},
   "source": [
    "If the interaction is duplicated, keep the first occurrence of the interaction and remove all subsequent, duplicated rows."
   ]
  },
  {
   "cell_type": "code",
   "execution_count": 12,
   "metadata": {},
   "outputs": [
    {
     "name": "stdout",
     "output_type": "stream",
     "text": [
      "253157: total number of interactions\n",
      "0: number of duplicates\n",
      "253157: total number of interactions after removal of duplicates\n"
     ]
    }
   ],
   "source": [
    "df_duplicate_relations = df[['source_identifier', 'target_identifier', 'bel_relation']].copy()\n",
    "duplicates = df_duplicate_relations[df_duplicate_relations.duplicated()]\n",
    "df_without_duplicates = df.drop_duplicates(subset=['source_identifier', 'target_identifier', 'bel_relation'], keep='first')\n",
    "\n",
    "print(f'{len(df.index)}: total number of interactions')\n",
    "print(f'{len(duplicates.index)}: number of duplicates')\n",
    "print(f'{len(df_without_duplicates.index)}: total number of interactions after removal of duplicates')"
   ]
  },
  {
   "cell_type": "markdown",
   "metadata": {},
   "source": [
    "### Filter dataset to include: \n",
    "\n",
    "1. drugs (DrugBank ID) and genes (HGNC ID)\n",
    "2. genes (HGNC ID) and genes (HGNC ID)\n",
    "3. genes (HGNC ID) and diseases/phenotypes (UMLS concept ID) "
   ]
  },
  {
   "cell_type": "code",
   "execution_count": 13,
   "metadata": {},
   "outputs": [],
   "source": [
    "drug_protein_df = df_without_duplicates.loc[\n",
    "    (df_without_duplicates['source_identifier'].str.startswith('drugbank:')) & \n",
    "    (df_without_duplicates['target_identifier'].str.startswith('HGNC:'))]\n",
    "\n",
    "protein_protein_df = df_without_duplicates.loc[\n",
    "    (df_without_duplicates['source_identifier'].str.startswith('HGNC:')) & \n",
    "    (df_without_duplicates['target_identifier'].str.startswith('HGNC:'))]\n",
    "\n",
    "protein_disease_df = df_without_duplicates.loc[\n",
    "    (df_without_duplicates['source_identifier'].str.startswith('HGNC:')) & \n",
    "    (df_without_duplicates['target_identifier'].str.startswith('UMLS:'))]"
   ]
  },
  {
   "cell_type": "markdown",
   "metadata": {},
   "source": [
    "### Remove association, hasComponent and NaN relations and retain increases and decreases relations"
   ]
  },
  {
   "cell_type": "code",
   "execution_count": 14,
   "metadata": {
    "scrolled": true
   },
   "outputs": [
    {
     "data": {
      "text/plain": [
       "['association', 'increases', 'decreases', 'hasComponent']"
      ]
     },
     "execution_count": 14,
     "metadata": {},
     "output_type": "execute_result"
    }
   ],
   "source": [
    "# Unique relation types in drug-protein interactions\n",
    "list(drug_protein_df.bel_relation.unique())"
   ]
  },
  {
   "cell_type": "code",
   "execution_count": 15,
   "metadata": {
    "scrolled": true
   },
   "outputs": [
    {
     "data": {
      "text/plain": [
       "['decreases', 'association', 'increases', 'hasComponent']"
      ]
     },
     "execution_count": 15,
     "metadata": {},
     "output_type": "execute_result"
    }
   ],
   "source": [
    "# Unique relation types in protein-protein interactions\n",
    "list(protein_protein_df.bel_relation.unique())"
   ]
  },
  {
   "cell_type": "code",
   "execution_count": 16,
   "metadata": {},
   "outputs": [
    {
     "data": {
      "text/plain": [
       "['increases']"
      ]
     },
     "execution_count": 16,
     "metadata": {},
     "output_type": "execute_result"
    }
   ],
   "source": [
    "# Unique relation types in protein-disease interactions\n",
    "list(protein_disease_df.bel_relation.unique())"
   ]
  },
  {
   "cell_type": "code",
   "execution_count": 17,
   "metadata": {},
   "outputs": [],
   "source": [
    "# Only retain increases and decreases relation types between drug-protein and protein-protein interactions\n",
    "drug_protein_df = drug_protein_df[(drug_protein_df['bel_relation'] == 'increases') | (drug_protein_df['bel_relation'] == 'decreases')]\n",
    "protein_protein_df = protein_protein_df[(protein_protein_df['bel_relation'] == 'increases') | (protein_protein_df['bel_relation'] == 'decreases')]"
   ]
  },
  {
   "cell_type": "code",
   "execution_count": 18,
   "metadata": {},
   "outputs": [
    {
     "data": {
      "text/plain": [
       "(62274, 4)"
      ]
     },
     "execution_count": 18,
     "metadata": {},
     "output_type": "execute_result"
    }
   ],
   "source": [
    "frames = [drug_protein_df, protein_protein_df, protein_disease_df]\n",
    "concatenated_df = pd.concat(frames)\n",
    "\n",
    "concatenated_df.shape"
   ]
  },
  {
   "cell_type": "markdown",
   "metadata": {},
   "source": [
    "### Remove drug-protein and gene-disease pairs that are not connected to the network"
   ]
  },
  {
   "cell_type": "code",
   "execution_count": 19,
   "metadata": {},
   "outputs": [],
   "source": [
    "# Protein that are a target of a drug\n",
    "protein_targets = {\n",
    "    target\n",
    "    for source, target, relation, source_database in concatenated_df.values\n",
    "    if source.startswith(\"drugbank\")\n",
    "}\n",
    "\n",
    "# Protein targets that are not source nodes themselves\n",
    "proteins_without_connection = protein_targets.difference(set(concatenated_df.source_identifier.unique()))\n",
    "\n",
    "# # Update network removing the drug-protein pairs whose targets do not have any further connections\n",
    "df_no_isolated_drug_targets = pd.DataFrame([\n",
    "    {'source_identifier': source, 'target_identifier': target, 'bel_relation': relation, 'source_database': source_database}\n",
    "    for source, target, relation, source_database in concatenated_df.values\n",
    "    if (source.startswith(\"drugbank\") and target not in proteins_without_connection)\n",
    "])"
   ]
  },
  {
   "cell_type": "code",
   "execution_count": 20,
   "metadata": {},
   "outputs": [],
   "source": [
    "# Protein that are associated to a disease\n",
    "disease_associated_proteins = {\n",
    "    source\n",
    "    for source, target, relation, source_database in concatenated_df.values\n",
    "    if target.startswith(\"UMLS\")\n",
    "}\n",
    "\n",
    "# Disease-associated proteins that are not target nodes of any node (cannot be reached)\n",
    "proteins_without_connection = disease_associated_proteins.difference(set(concatenated_df.target_identifier.unique()))\n",
    "\n",
    "# Update network removing the drug-protein pairs whose targets do not have any further connections\n",
    "df_no_isolated_disease_genes = pd.DataFrame([\n",
    "    {'source_identifier': source, 'target_identifier': target, 'bel_relation': relation, 'source_database': source_database}\n",
    "    for source, target, relation, source_database in concatenated_df.values\n",
    "    if (target.startswith(\"UMLS\") and source not in proteins_without_connection)\n",
    "])"
   ]
  },
  {
   "cell_type": "code",
   "execution_count": 21,
   "metadata": {},
   "outputs": [
    {
     "data": {
      "text/plain": [
       "(59925, 4)"
      ]
     },
     "execution_count": 21,
     "metadata": {},
     "output_type": "execute_result"
    }
   ],
   "source": [
    "frames = [df_no_isolated_drug_targets, protein_protein_df, df_no_isolated_disease_genes]\n",
    "concatenated_df = pd.concat(frames)\n",
    "\n",
    "concatenated_df.shape"
   ]
  },
  {
   "cell_type": "markdown",
   "metadata": {},
   "source": [
    "### Map increases and decreases relationships to 1 and -1, respectively"
   ]
  },
  {
   "cell_type": "code",
   "execution_count": 22,
   "metadata": {},
   "outputs": [],
   "source": [
    "concatenated_df.loc[concatenated_df['bel_relation'] == 'increases', 'bel_relation'] = 1\n",
    "concatenated_df.loc[concatenated_df['bel_relation'] == 'decreases', 'bel_relation'] = -1"
   ]
  },
  {
   "cell_type": "markdown",
   "metadata": {},
   "source": [
    "### Remove conflicting interactions and self edges"
   ]
  },
  {
   "cell_type": "markdown",
   "metadata": {},
   "source": [
    "After removing duplicate interactions, if duplicated entities remain, this implies the occurrence of conflicting interactions. If this is the case, remove all occurrences of these interactions."
   ]
  },
  {
   "cell_type": "code",
   "execution_count": 23,
   "metadata": {},
   "outputs": [
    {
     "name": "stdout",
     "output_type": "stream",
     "text": [
      "59925: # of causal interactions\n",
      "0: # of conflicting interactions\n",
      "59925: # of causal interactions after removal of conflicting interactions\n"
     ]
    }
   ],
   "source": [
    "df_duplicate_entities = concatenated_df[['source_identifier', 'target_identifier']].copy()\n",
    "duplicate_entities = df_duplicate_entities[df_duplicate_entities.duplicated()]\n",
    "df_clean = df_duplicate_entities.drop_duplicates(subset=['source_identifier', 'target_identifier'], keep=False)\n",
    "\n",
    "merged_df = pd.merge(df_clean, \n",
    "                  concatenated_df,  \n",
    "                  how='left', \n",
    "                  on=['source_identifier','target_identifier'], \n",
    "                 )\n",
    "\n",
    "print(f'{len(concatenated_df.index)}: # of causal interactions')\n",
    "print(f'{len(duplicate_entities.index)}: # of conflicting interactions')\n",
    "print(f'{len(merged_df.index)}: # of causal interactions after removal of conflicting interactions')"
   ]
  },
  {
   "cell_type": "markdown",
   "metadata": {},
   "source": [
    "Remove interactions in which entities have edges with themselves"
   ]
  },
  {
   "cell_type": "code",
   "execution_count": 24,
   "metadata": {
    "scrolled": true
   },
   "outputs": [],
   "source": [
    "count = 0\n",
    "for row in merged_df.itertuples(index=False):\n",
    "    if row[0] == row[1]:\n",
    "        count+=1"
   ]
  },
  {
   "cell_type": "code",
   "execution_count": 25,
   "metadata": {
    "scrolled": true
   },
   "outputs": [
    {
     "name": "stdout",
     "output_type": "stream",
     "text": [
      "524: # of self edges\n",
      "59401: # of causal interactions in network after removal of self edges and duplicates\n"
     ]
    }
   ],
   "source": [
    "network_df = merged_df.drop(merged_df[(merged_df['source_identifier'] == merged_df['target_identifier'])].index)\n",
    "\n",
    "print(f'{count}: # of self edges')\n",
    "print(f'{len(network_df.index)}: # of causal interactions in network after removal of self edges and duplicates')"
   ]
  },
  {
   "cell_type": "code",
   "execution_count": 26,
   "metadata": {},
   "outputs": [],
   "source": [
    "network_df.rename(columns={'source_identifier': 'source', 'target_identifier': 'target', 'bel_relation': 'relation'}, inplace=True)"
   ]
  },
  {
   "cell_type": "markdown",
   "metadata": {},
   "source": [
    "### Get gene-phenotype edges from OpenBioLink network"
   ]
  },
  {
   "cell_type": "code",
   "execution_count": 27,
   "metadata": {},
   "outputs": [
    {
     "data": {
      "text/plain": [
       "(161003, 3)"
      ]
     },
     "execution_count": 27,
     "metadata": {},
     "output_type": "execute_result"
    }
   ],
   "source": [
    "gene_phenotype_df = openbiolink_df.loc[\n",
    "                             (openbiolink_df['source'].str.startswith('NCBIGENE:')) & \n",
    "                             (openbiolink_df['target'].str.startswith('HP:'))\n",
    "]\n",
    "\n",
    "gene_phenotype_df.shape"
   ]
  },
  {
   "cell_type": "markdown",
   "metadata": {},
   "source": [
    "### Map entrez IDs in OpenBioLink network to HGNC IDs "
   ]
  },
  {
   "cell_type": "code",
   "execution_count": 28,
   "metadata": {},
   "outputs": [
    {
     "data": {
      "text/html": [
       "<div>\n",
       "<style scoped>\n",
       "    .dataframe tbody tr th:only-of-type {\n",
       "        vertical-align: middle;\n",
       "    }\n",
       "\n",
       "    .dataframe tbody tr th {\n",
       "        vertical-align: top;\n",
       "    }\n",
       "\n",
       "    .dataframe thead th {\n",
       "        text-align: right;\n",
       "    }\n",
       "</style>\n",
       "<table border=\"1\" class=\"dataframe\">\n",
       "  <thead>\n",
       "    <tr style=\"text-align: right;\">\n",
       "      <th></th>\n",
       "      <th>entrez</th>\n",
       "      <th>hgnc_id</th>\n",
       "    </tr>\n",
       "  </thead>\n",
       "  <tbody>\n",
       "    <tr>\n",
       "      <th>0</th>\n",
       "      <td>1</td>\n",
       "      <td>5</td>\n",
       "    </tr>\n",
       "    <tr>\n",
       "      <th>1</th>\n",
       "      <td>503538</td>\n",
       "      <td>37133</td>\n",
       "    </tr>\n",
       "    <tr>\n",
       "      <th>2</th>\n",
       "      <td>29974</td>\n",
       "      <td>24086</td>\n",
       "    </tr>\n",
       "    <tr>\n",
       "      <th>3</th>\n",
       "      <td>2</td>\n",
       "      <td>7</td>\n",
       "    </tr>\n",
       "    <tr>\n",
       "      <th>4</th>\n",
       "      <td>144571</td>\n",
       "      <td>27057</td>\n",
       "    </tr>\n",
       "  </tbody>\n",
       "</table>\n",
       "</div>"
      ],
      "text/plain": [
       "   entrez hgnc_id\n",
       "0       1       5\n",
       "1  503538   37133\n",
       "2   29974   24086\n",
       "3       2       7\n",
       "4  144571   27057"
      ]
     },
     "execution_count": 28,
     "metadata": {},
     "output_type": "execute_result"
    }
   ],
   "source": [
    "entrez_hgnc_mapping_df.head()"
   ]
  },
  {
   "cell_type": "code",
   "execution_count": 29,
   "metadata": {},
   "outputs": [
    {
     "name": "stderr",
     "output_type": "stream",
     "text": [
      "/usr/local/lib/python3.7/site-packages/ipykernel_launcher.py:11: SettingWithCopyWarning: \n",
      "A value is trying to be set on a copy of a slice from a DataFrame.\n",
      "Try using .loc[row_indexer,col_indexer] = value instead\n",
      "\n",
      "See the caveats in the documentation: https://pandas.pydata.org/pandas-docs/stable/user_guide/indexing.html#returning-a-view-versus-a-copy\n",
      "  # This is added back by InteractiveShellApp.init_path()\n",
      "/usr/local/lib/python3.7/site-packages/pandas/core/frame.py:4133: SettingWithCopyWarning: \n",
      "A value is trying to be set on a copy of a slice from a DataFrame\n",
      "\n",
      "See the caveats in the documentation: https://pandas.pydata.org/pandas-docs/stable/user_guide/indexing.html#returning-a-view-versus-a-copy\n",
      "  errors=errors,\n"
     ]
    }
   ],
   "source": [
    "# Add NCBIGENE: prefix to entrez Ids\n",
    "entrez_hgnc_mapping_df['entrez'] = 'NCBIGENE:' + entrez_hgnc_mapping_df['entrez'].astype(str)\n",
    "#Add HGNC: prefix to hgnc Ids\n",
    "entrez_hgnc_mapping_df['hgnc_id'] = 'HGNC:' + entrez_hgnc_mapping_df['hgnc_id'].astype(str)\n",
    "\n",
    "# Merge entrez ids in openbiolink network with Ids in entrez to hgnc mapping dataFrame\n",
    "merged_ids_df = pd.merge(gene_phenotype_df, entrez_hgnc_mapping_df, left_on = 'source', right_on = 'entrez', how='inner')\n",
    "hgnc_hp_df = merged_ids_df[['hgnc_id', 'target', 'relation']]\n",
    "\n",
    "# Add openbiolink as source database to gene-phenotype relations\n",
    "hgnc_hp_df['source_database'] = 'openbiolink'\n",
    "hgnc_hp_df.rename(columns={'hgnc_id':'source'}, inplace=True)"
   ]
  },
  {
   "cell_type": "code",
   "execution_count": 30,
   "metadata": {},
   "outputs": [
    {
     "data": {
      "text/plain": [
       "(220369, 4)"
      ]
     },
     "execution_count": 30,
     "metadata": {},
     "output_type": "execute_result"
    }
   ],
   "source": [
    "frames = [network_df, hgnc_hp_df]\n",
    "inhouse_network_df = pd.concat(frames)\n",
    "\n",
    "inhouse_network_df.shape"
   ]
  },
  {
   "cell_type": "code",
   "execution_count": 31,
   "metadata": {},
   "outputs": [],
   "source": [
    "inhouse_network_df.to_csv('custom_network.tsv', sep='\\t', index=False)"
   ]
  }
 ],
 "metadata": {
  "kernelspec": {
   "display_name": "Python 3",
   "language": "python",
   "name": "python3"
  },
  "language_info": {
   "codemirror_mode": {
    "name": "ipython",
    "version": 3
   },
   "file_extension": ".py",
   "mimetype": "text/x-python",
   "name": "python",
   "nbconvert_exporter": "python",
   "pygments_lexer": "ipython3",
   "version": "3.7.5"
  },
  "pycharm": {
   "stem_cell": {
    "cell_type": "raw",
    "source": [],
    "metadata": {
     "collapsed": false
    }
   }
  }
 },
 "nbformat": 4,
 "nbformat_minor": 4
}