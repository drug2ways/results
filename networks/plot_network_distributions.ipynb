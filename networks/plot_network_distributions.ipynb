{
 "cells": [
  {
   "cell_type": "markdown",
   "metadata": {},
   "source": [
    "# Distributions of nodes and edges in in-house and OpenBioLink networks"
   ]
  },
  {
   "cell_type": "markdown",
   "metadata": {},
   "source": [
    "This notebook plots the distributions of nodes and edges in the in-house and OpenBioLink networks used in the application scenario of drug2ways."
   ]
  },
  {
   "cell_type": "code",
   "execution_count": 1,
   "metadata": {},
   "outputs": [],
   "source": [
    "import os\n",
    "import getpass\n",
    "import sys\n",
    "import time\n",
    "\n",
    "import matplotlib.pyplot as plt\n",
    "import pandas as pd\n",
    "import seaborn as sns "
   ]
  },
  {
   "cell_type": "code",
   "execution_count": 2,
   "metadata": {},
   "outputs": [
    {
     "data": {
      "text/plain": [
       "'sarahbeenie'"
      ]
     },
     "execution_count": 2,
     "metadata": {},
     "output_type": "execute_result"
    }
   ],
   "source": [
    "getpass.getuser()"
   ]
  },
  {
   "cell_type": "code",
   "execution_count": 3,
   "metadata": {},
   "outputs": [
    {
     "data": {
      "text/plain": [
       "'3.7.5 (default, Nov  1 2019, 02:16:32) \\n[Clang 11.0.0 (clang-1100.0.33.8)]'"
      ]
     },
     "execution_count": 3,
     "metadata": {},
     "output_type": "execute_result"
    }
   ],
   "source": [
    "sys.version"
   ]
  },
  {
   "cell_type": "code",
   "execution_count": 4,
   "metadata": {},
   "outputs": [
    {
     "data": {
      "text/plain": [
       "'Fri May  8 12:58:57 2020'"
      ]
     },
     "execution_count": 4,
     "metadata": {},
     "output_type": "execute_result"
    }
   ],
   "source": [
    "time.asctime()"
   ]
  },
  {
   "cell_type": "markdown",
   "metadata": {},
   "source": [
    "Load networks"
   ]
  },
  {
   "cell_type": "code",
   "execution_count": 5,
   "metadata": {},
   "outputs": [],
   "source": [
    "custom = pd.read_csv('data/custom_network.tsv', sep='\\t')\n",
    "openbiolink = pd.read_csv('data/openbiolink_network.tsv', sep='\\t')"
   ]
  },
  {
   "cell_type": "markdown",
   "metadata": {},
   "source": [
    "### Get nodes in custom network"
   ]
  },
  {
   "cell_type": "markdown",
   "metadata": {},
   "source": [
    "Remove duplicate nodes in source ID and target ID columns "
   ]
  },
  {
   "cell_type": "code",
   "execution_count": 6,
   "metadata": {},
   "outputs": [],
   "source": [
    "source_identifier = custom['source']\n",
    "target_identifier = custom['target']\n",
    "\n",
    "custom_network_nodes = pd.concat([source_identifier, target_identifier], ignore_index=True)\n",
    "\n",
    "duplicates_count_custom = 0\n",
    "for index, duplicate in (custom_network_nodes.duplicated()).iteritems():\n",
    "    if duplicate == True:\n",
    "        duplicates_count_custom += 1\n",
    "        \n",
    "unique_nodes_custom_network = custom_network_nodes.drop_duplicates()"
   ]
  },
  {
   "cell_type": "markdown",
   "metadata": {},
   "source": [
    "Get entity counts for unique nodes"
   ]
  },
  {
   "cell_type": "code",
   "execution_count": 7,
   "metadata": {},
   "outputs": [],
   "source": [
    "custom_drugs = 0\n",
    "custom_proteins = 0\n",
    "custom_diseases = 0\n",
    "custom_phenotypes = 0\n",
    "\n",
    "for _, entity in unique_nodes_custom_network.iteritems():\n",
    "    if entity.startswith('drugbank:'):\n",
    "        custom_drugs += 1\n",
    "    elif entity.startswith('HGNC:'):\n",
    "        custom_proteins += 1\n",
    "    elif entity.startswith('UMLS:'):\n",
    "        custom_diseases += 1\n",
    "    elif entity.startswith('HP:'):\n",
    "        custom_phenotypes += 1\n",
    "    else:\n",
    "        raise ValueError(f'{entity} not a Drugbank, HGNC, or UMLS ID')  "
   ]
  },
  {
   "cell_type": "markdown",
   "metadata": {},
   "source": [
    "### Get edges in custom network "
   ]
  },
  {
   "cell_type": "markdown",
   "metadata": {},
   "source": [
    "#### Edges in dataset:\n",
    "1. drugs (DrugBank ID) and genes (HGNC symbol)\n",
    "2. genes (HGNC symbol) and genes (HGNC symbol)\n",
    "3. genes (HGNC symbol) and disease/phenotypes (UMLS concept ID)"
   ]
  },
  {
   "cell_type": "code",
   "execution_count": 8,
   "metadata": {},
   "outputs": [],
   "source": [
    "drug_protein_df = custom.loc[\n",
    "    (custom['source'].str.startswith('drugbank:')) & \n",
    "    (custom['target'].str.startswith('HGNC:'))]\n",
    "\n",
    "protein_protein_df = custom.loc[\n",
    "    (custom['source'].str.startswith('HGNC:')) & \n",
    "    (custom['target'].str.startswith('HGNC:'))]\n",
    "\n",
    "protein_disease_df = custom.loc[\n",
    "    (custom['source'].str.startswith('HGNC:')) & \n",
    "    (custom['target'].str.startswith('UMLS:'))]\n",
    "\n",
    "protein_phenotype_df = custom.loc[\n",
    "    (custom['source'].str.startswith('HGNC:')) & \n",
    "    (custom['target'].str.startswith('HP:'))]"
   ]
  },
  {
   "cell_type": "markdown",
   "metadata": {},
   "source": [
    "Get unique disease and phenotype nodes and edges in custom network"
   ]
  },
  {
   "cell_type": "code",
   "execution_count": 9,
   "metadata": {},
   "outputs": [],
   "source": [
    "drug_protein_custom = len(drug_protein_df.index)\n",
    "protein_protein_custom = len(protein_protein_df.index)\n",
    "protein_disease_custom = len(protein_disease_df.index)\n",
    "protein_phenotype_custom = len(protein_phenotype_df.index)"
   ]
  },
  {
   "cell_type": "code",
   "execution_count": 10,
   "metadata": {
    "scrolled": true
   },
   "outputs": [
    {
     "name": "stdout",
     "output_type": "stream",
     "text": [
      "##### Number of nodes in custom network #####\n",
      "440738: total # of nodes\n",
      "418946: # of duplicate nodes\n",
      "21792: # of unique nodes\n",
      "1350: # of unique drugs\n",
      "9921: # of unique proteins\n",
      "2905: # of unique diseases\n",
      "7616: # of unique phenotypes \n",
      "\n",
      "##### Number of edges in custom network ######\n",
      "220369: total # of interactions\n",
      "4673: # of drug-protein interactions\n",
      "50764: # of protein-protein interactions\n",
      "3964: # of protein-disease interactions\n",
      "160968: # of protein-phenotype interactions\n"
     ]
    }
   ],
   "source": [
    "print('##### Number of nodes in custom network #####')\n",
    "print(f'{custom_network_nodes.size}: total # of nodes')\n",
    "print(f'{duplicates_count_custom}: # of duplicate nodes')\n",
    "print(f'{unique_nodes_custom_network.size}: # of unique nodes')\n",
    "print(f'{custom_drugs}: # of unique drugs')\n",
    "print(f'{custom_proteins}: # of unique proteins')\n",
    "print(f'{custom_diseases}: # of unique diseases')\n",
    "print(f'{custom_phenotypes}: # of unique phenotypes \\n')\n",
    "\n",
    "print('##### Number of edges in custom network ######')       \n",
    "print(f'{len(custom.index)}: total # of interactions')\n",
    "print(f'{drug_protein_custom}: # of drug-protein interactions')\n",
    "print(f'{protein_protein_custom}: # of protein-protein interactions')\n",
    "print(f'{protein_disease_custom}: # of protein-disease interactions')\n",
    "print(f'{protein_phenotype_custom}: # of protein-phenotype interactions')"
   ]
  },
  {
   "cell_type": "markdown",
   "metadata": {},
   "source": [
    "### Get nodes in OpenBioLink network"
   ]
  },
  {
   "cell_type": "markdown",
   "metadata": {},
   "source": [
    "Remove duplicate nodes in source and target columns "
   ]
  },
  {
   "cell_type": "code",
   "execution_count": 11,
   "metadata": {},
   "outputs": [],
   "source": [
    "source = openbiolink['source']\n",
    "target = openbiolink['target']\n",
    "\n",
    "openbiolink_nodes = pd.concat([source, target], ignore_index=True)\n",
    "\n",
    "duplicates_count_openbiolink = 0\n",
    "for index, duplicate in (openbiolink_nodes.duplicated()).iteritems():\n",
    "    if duplicate == True:\n",
    "        duplicates_count_openbiolink += 1\n",
    "        \n",
    "unique_nodes_openbiolink = openbiolink_nodes.drop_duplicates()"
   ]
  },
  {
   "cell_type": "markdown",
   "metadata": {},
   "source": [
    "Get entity counts for unique nodes"
   ]
  },
  {
   "cell_type": "code",
   "execution_count": 12,
   "metadata": {},
   "outputs": [],
   "source": [
    "openbiolink_drugs = 0\n",
    "openbiolink_proteins = 0\n",
    "openbiolink_diseases = 0\n",
    "openbiolink_phenotypes = 0\n",
    "\n",
    "for _, entity in unique_nodes_openbiolink.iteritems():\n",
    "    if entity.startswith('PUBCHEM.COMPOUND:'):\n",
    "        openbiolink_drugs += 1\n",
    "    elif entity.startswith('NCBIGENE:'):\n",
    "        openbiolink_proteins += 1\n",
    "    elif entity.startswith('DOID:'):\n",
    "        openbiolink_diseases += 1\n",
    "    elif entity.startswith('HP:'):\n",
    "        openbiolink_phenotypes += 1\n",
    "    else:\n",
    "        raise ValueError(f'{entity} not a PubChem, NCBI, DO or HP ID.')  \n"
   ]
  },
  {
   "cell_type": "markdown",
   "metadata": {},
   "source": [
    "### Get edges in OpenBioLink network"
   ]
  },
  {
   "cell_type": "markdown",
   "metadata": {},
   "source": [
    "#### Edges in dataset:\n",
    "\n",
    "1. drugs (PubChem compound) and genes (NCBI gene)\n",
    "2. genes (NCBI gene) and genes (NCBI gene)\n",
    "3. genes (NCBI gene) and diseases (DOID)\n",
    "4. genes (NCBI gene) and phenotypes (HP)"
   ]
  },
  {
   "cell_type": "code",
   "execution_count": 13,
   "metadata": {},
   "outputs": [],
   "source": [
    "drug_protein_df_obl = openbiolink.loc[\n",
    "    (openbiolink['source'].str.startswith('PUBCHEM.COMPOUND:')) & \n",
    "    (openbiolink['target'].str.startswith('NCBIGENE:'))]\n",
    "\n",
    "protein_protein_df_obl = openbiolink.loc[\n",
    "    (openbiolink['source'].str.startswith('NCBIGENE:')) & \n",
    "    (openbiolink['target'].str.startswith('NCBIGENE:'))]\n",
    "\n",
    "protein_disease_df_obl = openbiolink.loc[\n",
    "    (openbiolink['source'].str.startswith('NCBIGENE:')) & \n",
    "    (openbiolink['target'].str.startswith('DOID:'))]\n",
    "\n",
    "protein_phenotype_df_obl = openbiolink.loc[\n",
    "    (openbiolink['source'].str.startswith('NCBIGENE:')) & \n",
    "    (openbiolink['target'].str.startswith('HP:'))]\n",
    "\n",
    "disease_phenotype_df_obl = openbiolink.loc[\n",
    "    (openbiolink['source'].str.startswith('DOID:')) & \n",
    "    (openbiolink['target'].str.startswith('HP:'))]"
   ]
  },
  {
   "cell_type": "code",
   "execution_count": 14,
   "metadata": {},
   "outputs": [],
   "source": [
    "drug_protein_obl = len(drug_protein_df_obl.index)\n",
    "protein_protein_obl = len(protein_protein_df_obl.index)\n",
    "protein_disease_obl = len(protein_disease_df_obl.index)\n",
    "protein_phenotype_obl = len(protein_phenotype_df_obl.index)"
   ]
  },
  {
   "cell_type": "code",
   "execution_count": 15,
   "metadata": {},
   "outputs": [
    {
     "name": "stdout",
     "output_type": "stream",
     "text": [
      "##### Number of nodes in OpenBioLink network #####\n",
      "471762: total # of nodes\n",
      "446956: # of duplicate nodes\n",
      "24806: # of unique nodes\n",
      "1512: # of unique diseases\n",
      "7616: # of unique phenotypes\n",
      "7407: # of unique drugs\n",
      "8271: # of unique proteins \n",
      "\n",
      "##### Number of edges in OpenBioLink network #####\n",
      "235881: total # of edges\n",
      "32761: # of drug-protein interactions\n",
      "39154: # of protein-protein interactions\n",
      "2963: # of protein-disease interactions\n",
      "161003: # of protein-phenotype interactions\n"
     ]
    }
   ],
   "source": [
    "print('##### Number of nodes in OpenBioLink network #####')\n",
    "print(f'{openbiolink_nodes.size}: total # of nodes')\n",
    "print(f'{duplicates_count_openbiolink}: # of duplicate nodes')\n",
    "print(f'{unique_nodes_openbiolink.size}: # of unique nodes')\n",
    "print(f'{openbiolink_diseases}: # of unique diseases')\n",
    "print(f'{openbiolink_phenotypes}: # of unique phenotypes')\n",
    "print(f'{openbiolink_drugs}: # of unique drugs')\n",
    "print(f'{openbiolink_proteins}: # of unique proteins \\n')\n",
    "\n",
    "print('##### Number of edges in OpenBioLink network #####')\n",
    "print(f'{len(openbiolink.index)}: total # of edges')\n",
    "print(f'{drug_protein_obl}: # of drug-protein interactions')\n",
    "print(f'{protein_protein_obl}: # of protein-protein interactions')\n",
    "print(f'{protein_disease_obl}: # of protein-disease interactions')\n",
    "print(f'{protein_phenotype_obl}: # of protein-phenotype interactions')"
   ]
  },
  {
   "cell_type": "markdown",
   "metadata": {},
   "source": [
    "### Plot distributions of nodes in custom and OpenBioLink networks"
   ]
  },
  {
   "cell_type": "code",
   "execution_count": 16,
   "metadata": {},
   "outputs": [],
   "source": [
    "data_nodes = {\n",
    "    'Network': ['In-house','OpenBioLink','In-house','OpenBioLink','In-house','OpenBioLink','In-house','OpenBioLink'],\n",
    "    'Count':[custom_drugs, openbiolink_drugs, custom_proteins, openbiolink_proteins, custom_diseases, openbiolink_diseases, custom_phenotypes, openbiolink_phenotypes],\n",
    "    'Node Types':['Drugs','Drugs','Genes/Proteins','Genes/Proteins','Indications','Indications','Phenotypes','Phenotypes']\n",
    "}\n",
    "\n",
    "node_df = pd.DataFrame(data=data_nodes)"
   ]
  },
  {
   "cell_type": "code",
   "execution_count": 20,
   "metadata": {},
   "outputs": [
    {
     "data": {
      "image/png": "[encoded data removed]",
      "text/plain": [
       "<Figure size 720x432 with 1 Axes>"
      ]
     },
     "metadata": {},
     "output_type": "display_data"
    }
   ],
   "source": [
    "ax=sns.barplot(x=\"Node Types\", y=\"Count\", hue='Network', data=node_df, palette=['#9ebcda','#8856a7'])\n",
    "\n",
    "plt.title('Distribution of Node Types in In-House and OpenBioLink Networks', fontsize=17, fontweight=\"bold\")\n",
    "plt.xlabel(\"Node Type\", fontsize=14, fontweight=\"bold\")\n",
    "plt.ylabel(\"Count\", fontsize=14, fontweight=\"bold\")\n",
    "plt.ylim(10, 15000)\n",
    "\n",
    "sns.set(rc={'figure.figsize':(10,6)})\n",
    "\n",
    "# Add counts above bars\n",
    "for p in ax.patches:\n",
    "    _x = p.get_x() + p.get_width() / 2\n",
    "    _y = p.get_y() + p.get_height() + 200\n",
    "    value = int(p.get_height())\n",
    "    ax.text(_x, _y, value, ha=\"center\")\n",
    "\n",
    "plt.tight_layout()\n",
    "plt.savefig(\n",
    "    ('nodes.png'),\n",
    "    dpi=400,\n",
    "    bbox_inches='tight', \n",
    ")\n",
    "plt.show()\n",
    "    \n",
    "    "
   ]
  },
  {
   "cell_type": "markdown",
   "metadata": {},
   "source": [
    "### Plot distributions of edges in custom and OpenBioLink networks"
   ]
  },
  {
   "cell_type": "code",
   "execution_count": 18,
   "metadata": {},
   "outputs": [],
   "source": [
    "data_edges = {\n",
    "    'Network': ['In-house','OpenBioLink','In-house','OpenBioLink','In-house','OpenBioLink','In-house','OpenBioLink'],\n",
    "    'Count':[drug_protein_custom, drug_protein_obl, protein_protein_custom, protein_protein_obl, protein_disease_custom, protein_disease_obl, protein_phenotype_custom, protein_phenotype_obl],\n",
    "    'Edge Types':['drug-protein','drug-protein','protein-protein','protein-protein','gene-indication','gene-indication','gene-phenotype','gene-phenotype']\n",
    "}\n",
    "\n",
    "\n",
    "edges_df = pd.DataFrame(data=data_edges)"
   ]
  },
  {
   "cell_type": "code",
   "execution_count": 19,
   "metadata": {},
   "outputs": [
    {
     "data": {
      "image/png": "[encoded data removed]",
      "text/plain": [
       "<Figure size 720x432 with 2 Axes>"
      ]
     },
     "metadata": {},
     "output_type": "display_data"
    }
   ],
   "source": [
    "f, axis = plt.subplots(2, 1, sharex=True)\n",
    "\n",
    "sns.set(rc={'figure.figsize':(10,6)})\n",
    "\n",
    "axis[0].set_title('Distribution of Relationships in In-House and OpenBioLink Networks', fontsize=16, fontweight=\"bold\")\n",
    "bx = sns.barplot(x=\"Edge Types\", y=\"Count\", hue='Network', data=edges_df, palette=['#9ebcda','#8856a7'], ax=axis[0]) \n",
    "bx = sns.barplot(x=\"Edge Types\", y=\"Count\", hue='Network', data=edges_df, palette=['#9ebcda','#8856a7'], ax=axis[1]) \n",
    "\n",
    "labels=['drug-protein','protein-protein','gene-indication','gene-phenotype']\n",
    "\n",
    "axis[1].set_xticklabels(labels=labels)\n",
    "\n",
    "# Set axis labels\n",
    "f.text(0.5, 0.03, 'Relationship', ha='center', fontsize=12, fontweight=\"bold\")\n",
    "f.text(0.022, 0.5, 'Count', va='center', rotation='vertical', fontsize=12, fontweight=\"bold\")\n",
    "\n",
    "axis[0].set_ylabel('')    \n",
    "axis[0].set_xlabel('')\n",
    "\n",
    "axis[1].set_ylabel('')    \n",
    "axis[1].set_xlabel('')\n",
    "\n",
    "axis[1].xaxis.tick_bottom()\n",
    "\n",
    "axis[0].set_ylim(120000, 180000)\n",
    "axis[1].set_ylim(0, 70000)\n",
    "\n",
    "axis[0].legend(loc='upper left')\n",
    "axis[1].legend().set_visible(False)\n",
    "axis[0].legend(title='Network')\n",
    "\n",
    "# Add line break to axis \n",
    "d = .015 \n",
    "kwargs = dict(transform=axis[0].transAxes, color='k', clip_on=False)\n",
    "axis[0].plot((-d, +d), (-d, +d), **kwargs)\n",
    "axis[0].plot((1 - d, 1 + d), (-d, +d), **kwargs) \n",
    "\n",
    "kwargs.update(transform=axis[1].transAxes)\n",
    "axis[1].plot((-d, +d), (1 - d, 1 + d), **kwargs)\n",
    "axis[1].plot((1 - d, 1 + d), (1 - d, 1 + d), **kwargs)\n",
    "    \n",
    "# Add counts above bars\n",
    "for p in axis[1].patches:\n",
    "    _x = p.get_x() + p.get_width() / 2\n",
    "    _y = p.get_y() + p.get_height() + 2000\n",
    "    value = int(p.get_height())\n",
    "    if p.get_height() < 160000:\n",
    "        axis[1].text(_x, _y, value, ha=\"center\")   \n",
    "    else:\n",
    "        axis[1].text(_x, 135000, value, ha=\"center\")\n",
    "\n",
    "plt.savefig(\n",
    "    ('edges.png'),\n",
    "    dpi=400,\n",
    "    bbox_inches='tight', \n",
    ")\n",
    "plt.show()\n",
    "    "
   ]
  },
  {
   "cell_type": "code",
   "execution_count": null,
   "metadata": {},
   "outputs": [],
   "source": []
  }
 ],
 "metadata": {
  "kernelspec": {
   "display_name": "Python 3",
   "language": "python",
   "name": "python3"
  },
  "language_info": {
   "codemirror_mode": {
    "name": "ipython",
    "version": 3
   },
   "file_extension": ".py",
   "mimetype": "text/x-python",
   "name": "python",
   "nbconvert_exporter": "python",
   "pygments_lexer": "ipython3",
   "version": "3.7.5"
  },
  "pycharm": {
   "stem_cell": {
    "cell_type": "raw",
    "source": [],
    "metadata": {
     "collapsed": false
    }
   }
  }
 },
 "nbformat": 4,
 "nbformat_minor": 4
}